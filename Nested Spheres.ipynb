{
 "cells": [
  {
   "cell_type": "code",
   "execution_count": 2,
   "metadata": {},
   "outputs": [],
   "source": [
    "import numpy as np\n",
    "import matplotlib.pyplot as plt\n",
    "import matplotlib as mpl\n",
    "from sklearn.tree import DecisionTreeClassifier\n",
    "from sklearn.ensemble import BaggingClassifier, RandomForestClassifier, AdaBoostClassifier\n",
    "from sklearn.metrics import accuracy_score\n",
    "import pandas as pd\n",
    "from tqdm import tqdm"
   ]
  },
  {
   "cell_type": "code",
   "execution_count": 3,
   "metadata": {},
   "outputs": [],
   "source": [
    "def generate_data(N):\n",
    "    \n",
    "    '''\n",
    "    This function creates the data according to the rule above.\n",
    "    \n",
    "    Inputs:\n",
    "    N - integer.  The number of samples to draw.\n",
    "    \n",
    "    '''\n",
    "    \n",
    "    # Some logic to prevent some errors\n",
    "    if N<=0:\n",
    "        raise ValueError('N must be a postivie integer')\n",
    "    if isinstance(N,float):\n",
    "        N = int(np.floor(N))\n",
    "\n",
    "    # Generate the features to learn from.\n",
    "    # Features are iid standard gaussian, so draw from a multivariable standar normal in which the \n",
    "    # covariance matrix is the identity\n",
    "    \n",
    "    X = np.random.multivariate_normal(mean = np.zeros(10), cov = np.eye(10), size = N)\n",
    "\n",
    "    \n",
    "    # Calculate the sum to determine if y=0 or y=1\n",
    "    \n",
    "    radius_squared  = np.linalg.norm(X, 2, axis = 1)**2\n",
    "    \n",
    "    y = radius_squared>9.34\n",
    "    \n",
    "    y = y.astype(int)\n",
    "\n",
    "    return X,y"
   ]
  },
  {
   "cell_type": "code",
   "execution_count": 8,
   "metadata": {},
   "outputs": [
    {
     "name": "stderr",
     "output_type": "stream",
     "text": [
      "100%|██████████| 50/50 [55:19<00:00, 63.54s/it]\n"
     ]
    }
   ],
   "source": [
    "# Perform the simulation below.  Initialize somewhere to store the errors\n",
    "\n",
    "number_of_simulations = 50\n",
    "\n",
    "err_bag_rf1 = np.zeros(number_of_simulations)\n",
    "err_bag_rf2 = np.zeros(number_of_simulations)\n",
    "err_boost_rf3 = np.zeros(number_of_simulations)\n",
    "\n",
    "for i in tqdm(range(number_of_simulations)):\n",
    "\n",
    "    # Step 1: \n",
    "    # Generate a training data set of 2000 observations according to the description above.  \n",
    "    # Label each of these training examples according to the rule above.\n",
    "    \n",
    "    Xtrain,ytrain = generate_data(N=2000)  \n",
    "    \n",
    "    \n",
    "    # Instantiate Models\n",
    "    \n",
    "    bag_rf1 = BaggingClassifier(RandomForestClassifier(), n_estimators=500, max_features=1)\n",
    "    bag_rf2 = BaggingClassifier(RandomForestClassifier(), n_estimators=500, max_features=3)\n",
    "    boost_rf3 = AdaBoostClassifier(RandomForestClassifier(max_features=3), n_estimators=500)\n",
    "   \n",
    "    \n",
    "    # Step 2: Train a bagged estimator\n",
    "    # Use 500 trees in your random forests and bagged estimator.\n",
    "    \n",
    "    bag_rf1.fit(Xtrain, ytrain) \n",
    "    bag_rf2.fit(Xtrain, ytrain)\n",
    "    boost_rf3.fit(Xtrain, ytrain)\n",
    "    \n",
    "    \n",
    "    #Step 3:\n",
    "    # Generate a testing data set of 10,000 observations according to the description above.  \n",
    "    # Label each of these training examples according to the rule above.\n",
    "   \n",
    "    Xtest,ytest = generate_data(N=10_000)  \n",
    "\n",
    "    # Step 4:\n",
    "    # Use each model to predict on the testing data.  \n",
    "    \n",
    "    bag_rf1_pred = bag_rf1.predict(Xtest)\n",
    "    bag_rf2_pred = bag_rf2.predict(Xtest)\n",
    "    boost_rf3_pred = boost_rf3.predict(Xtest)\n",
    "\n",
    "    \n",
    "    # Record the testing error rate (that is 1 - accuracy).\n",
    "    \n",
    "    err_bag_rf1[i] = 1 - accuracy_score(ytest, bag_rf1_pred)\n",
    "    err_bag_rf2[i] = 1 - accuracy_score(ytest, bag_rf2_pred)\n",
    "    err_boost_rf3[i] = 1 - accuracy_score(ytest, boost_rf3_pred)\n",
    "    \n",
    "\n",
    "#Plot the error rate"
   ]
  },
  {
   "cell_type": "code",
   "execution_count": 9,
   "metadata": {},
   "outputs": [
    {
     "data": {
      "text/plain": [
       "<matplotlib.axes._subplots.AxesSubplot at 0x242e7610710>"
      ]
     },
     "execution_count": 9,
     "metadata": {},
     "output_type": "execute_result"
    },
    {
     "data": {
      "image/png": "[encoded data removed]",
      "text/plain": [
       "<Figure size 432x288 with 1 Axes>"
      ]
     },
     "metadata": {
      "needs_background": "light"
     },
     "output_type": "display_data"
    }
   ],
   "source": [
    "estimators = {'bag_rf1': err_bag_rf1, 'bag_rf2': err_bag_rf2, 'boost_rf3': err_boost_rf3}\n",
    "\n",
    "df = pd.DataFrame(estimators)\n",
    "\n",
    "df\n",
    "\n",
    "df.boxplot()"
   ]
  }
 ],
 "metadata": {
  "kernelspec": {
   "display_name": "Python 3",
   "language": "python",
   "name": "python3"
  },
  "language_info": {
   "codemirror_mode": {
    "name": "ipython",
    "version": 3
   },
   "file_extension": ".py",
   "mimetype": "text/x-python",
   "name": "python",
   "nbconvert_exporter": "python",
   "pygments_lexer": "ipython3",
   "version": "3.7.3"
  }
 },
 "nbformat": 4,
 "nbformat_minor": 4
}
